{
 "cells": [
  {
   "cell_type": "code",
   "execution_count": 11,
   "metadata": {},
   "outputs": [],
   "source": [
    "from txgnn import TxData, TxGNN, TxEval\n",
    "import pandas as pd\n",
    "import dgl\n"
   ]
  },
  {
   "cell_type": "code",
   "execution_count": 4,
   "metadata": {},
   "outputs": [
    {
     "name": "stdout",
     "output_type": "stream",
     "text": [
      "1.5.3\n",
      "0.9.1\n"
     ]
    }
   ],
   "source": [
    "# check pandas version\n",
    "print(pd.__version__)\n",
    "print(dgl.__version__)\n"
   ]
  },
  {
   "cell_type": "code",
   "execution_count": 9,
   "metadata": {},
   "outputs": [],
   "source": [
    "%reload_ext autoreload\n",
    "%autoreload 2\n"
   ]
  },
  {
   "cell_type": "code",
   "execution_count": 13,
   "metadata": {},
   "outputs": [
    {
     "name": "stdout",
     "output_type": "stream",
     "text": [
      "Found local copy...\n",
      "Found local copy...\n",
      "Found local copy...\n",
      "Found saved processed KG... Loading...\n",
      "Splits detected... Loading splits....\n",
      "Creating DGL graph....\n",
      "Done!\n"
     ]
    }
   ],
   "source": [
    "tx_data = TxData('./data')\n",
    "tx_data.prepare_split(split='random', seed=1)\n",
    "tx_gnn = TxGNN(data=tx_data, weight_bias_track=False, proj_name='TxGNN', exp_name='TxGNN', device='cuda:0')\n"
   ]
  },
  {
   "cell_type": "code",
   "execution_count": 14,
   "metadata": {},
   "outputs": [
    {
     "name": "stdout",
     "output_type": "stream",
     "text": [
      "anatomy_anatomy\n",
      "rev_anatomy_protein_absent\n",
      "rev_anatomy_protein_present\n",
      "bioprocess_bioprocess\n",
      "rev_bioprocess_protein\n",
      "rev_exposure_bioprocess\n",
      "cellcomp_cellcomp\n",
      "rev_cellcomp_protein\n",
      "rev_exposure_cellcomp\n",
      "disease_disease\n",
      "disease_phenotype_negative\n",
      "disease_phenotype_positive\n",
      "rev_contraindication\n",
      "rev_disease_protein\n",
      "rev_exposure_disease\n",
      "rev_indication\n",
      "rev_off-label use\n",
      "contraindication\n",
      "drug_drug\n",
      "drug_effect\n",
      "drug_protein\n",
      "indication\n",
      "off-label use\n",
      "phenotype_phenotype\n",
      "rev_disease_phenotype_negative\n",
      "rev_disease_phenotype_positive\n",
      "rev_drug_effect\n",
      "rev_phenotype_protein\n",
      "exposure_bioprocess\n",
      "exposure_cellcomp\n",
      "exposure_disease\n",
      "exposure_exposure\n",
      "exposure_molfunc\n",
      "exposure_protein\n",
      "anatomy_protein_absent\n",
      "anatomy_protein_present\n",
      "bioprocess_protein\n",
      "cellcomp_protein\n",
      "disease_protein\n",
      "molfunc_protein\n",
      "pathway_protein\n",
      "phenotype_protein\n",
      "protein_protein\n",
      "rev_drug_protein\n",
      "rev_exposure_protein\n",
      "molfunc_molfunc\n",
      "rev_exposure_molfunc\n",
      "rev_molfunc_protein\n",
      "pathway_pathway\n",
      "rev_pathway_protein\n"
     ]
    },
    {
     "ename": "DGLError",
     "evalue": "[13:36:13] /tmp/dgl_src/src/graph/heterograph.cc:120: Check failed: !rel_graphs.empty(): Empty heterograph is not allowed.\nStack trace:\n  [bt] (0) 1   libdgl.dylib                        0x000000015d0b329c dmlc::LogMessageFatal::~LogMessageFatal() + 116\n  [bt] (1) 2   libdgl.dylib                        0x000000015d3f44a0 dgl::HeteroGraph::HeteroGraph(std::__1::shared_ptr<dgl::GraphInterface>, std::__1::vector<std::__1::shared_ptr<dgl::BaseHeteroGraph>, std::__1::allocator<std::__1::shared_ptr<dgl::BaseHeteroGraph>>> const&, std::__1::vector<long long, std::__1::allocator<long long>> const&) + 1596\n  [bt] (2) 3   libdgl.dylib                        0x000000015d3c6958 dgl::CreateHeteroGraph(std::__1::shared_ptr<dgl::GraphInterface>, std::__1::vector<std::__1::shared_ptr<dgl::BaseHeteroGraph>, std::__1::allocator<std::__1::shared_ptr<dgl::BaseHeteroGraph>>> const&, std::__1::vector<long long, std::__1::allocator<long long>> const&) + 96\n  [bt] (3) 4   libdgl.dylib                        0x000000015d406f90 std::__1::__function::__func<dgl::$_3, std::__1::allocator<dgl::$_3>, void (dgl::runtime::DGLArgs, dgl::runtime::DGLRetValue*)>::operator()(dgl::runtime::DGLArgs&&, dgl::runtime::DGLRetValue*&&) + 516\n  [bt] (4) 5   libdgl.dylib                        0x000000015d39f0a4 DGLFuncCall + 80\n  [bt] (5) 6   libffi.8.dylib                      0x00000001068f0050 ffi_call_SYSV + 80\n  [bt] (6) 7   libffi.8.dylib                      0x00000001068ed868 ffi_call_int + 1452\n  [bt] (7) 8   _ctypes.cpython-38-darwin.so        0x0000000106920574 _ctypes_callproc + 1176\n  [bt] (8) 9   _ctypes.cpython-38-darwin.so        0x000000010691a8c8 PyCFuncPtr_call + 1164\n\n",
     "output_type": "error",
     "traceback": [
      "\u001b[0;31m---------------------------------------------------------------------------\u001b[0m",
      "\u001b[0;31mDGLError\u001b[0m                                  Traceback (most recent call last)",
      "Cell \u001b[0;32mIn[14], line 1\u001b[0m\n\u001b[0;32m----> 1\u001b[0m \u001b[43mtx_gnn\u001b[49m\u001b[38;5;241;43m.\u001b[39;49m\u001b[43mload_pretrained\u001b[49m\u001b[43m(\u001b[49m\u001b[38;5;124;43m'\u001b[39;49m\u001b[38;5;124;43m/Users/shloknatarajan/stanford/research/daneshjou/TxGNN-Burkitts/checkpoints_all_seeds/TxGNN_1_random\u001b[39;49m\u001b[38;5;124;43m'\u001b[39;49m\u001b[43m)\u001b[49m\n",
      "File \u001b[0;32m~/stanford/research/daneshjou/TxGNN-Burkitts/txgnn/TxGNN.py:466\u001b[0m, in \u001b[0;36mTxGNN.load_pretrained\u001b[0;34m(self, path)\u001b[0m\n\u001b[1;32m    463\u001b[0m \u001b[38;5;28;01mwith\u001b[39;00m \u001b[38;5;28mopen\u001b[39m(os\u001b[38;5;241m.\u001b[39mpath\u001b[38;5;241m.\u001b[39mjoin(path, \u001b[38;5;124m'\u001b[39m\u001b[38;5;124mconfig.pkl\u001b[39m\u001b[38;5;124m'\u001b[39m), \u001b[38;5;124m'\u001b[39m\u001b[38;5;124mrb\u001b[39m\u001b[38;5;124m'\u001b[39m) \u001b[38;5;28;01mas\u001b[39;00m f:\n\u001b[1;32m    464\u001b[0m     config \u001b[38;5;241m=\u001b[39m pickle\u001b[38;5;241m.\u001b[39mload(f)\n\u001b[0;32m--> 466\u001b[0m \u001b[38;5;28;43mself\u001b[39;49m\u001b[38;5;241;43m.\u001b[39;49m\u001b[43mmodel_initialize\u001b[49m\u001b[43m(\u001b[49m\u001b[38;5;241;43m*\u001b[39;49m\u001b[38;5;241;43m*\u001b[39;49m\u001b[43mconfig\u001b[49m\u001b[43m)\u001b[49m\n\u001b[1;32m    467\u001b[0m \u001b[38;5;28mself\u001b[39m\u001b[38;5;241m.\u001b[39mconfig \u001b[38;5;241m=\u001b[39m config\n\u001b[1;32m    468\u001b[0m \u001b[38;5;66;03m#self.G = initialize_node_embedding(self.G, config['n_inp'])\u001b[39;00m\n",
      "File \u001b[0;32m~/stanford/research/daneshjou/TxGNN-Burkitts/txgnn/TxGNN.py:88\u001b[0m, in \u001b[0;36mTxGNN.model_initialize\u001b[0;34m(self, n_hid, n_inp, n_out, proto, proto_num, attention, sim_measure, bert_measure, agg_measure, exp_lambda, num_walks, walk_mode, path_length)\u001b[0m\n\u001b[1;32m     86\u001b[0m \u001b[38;5;28mself\u001b[39m\u001b[38;5;241m.\u001b[39mG \u001b[38;5;241m=\u001b[39m \u001b[38;5;28mself\u001b[39m\u001b[38;5;241m.\u001b[39mG\u001b[38;5;241m.\u001b[39mto(\u001b[38;5;124m'\u001b[39m\u001b[38;5;124mcpu\u001b[39m\u001b[38;5;124m'\u001b[39m)\n\u001b[1;32m     87\u001b[0m \u001b[38;5;28mself\u001b[39m\u001b[38;5;241m.\u001b[39mG \u001b[38;5;241m=\u001b[39m initialize_node_embedding(\u001b[38;5;28mself\u001b[39m\u001b[38;5;241m.\u001b[39mG, n_inp)\n\u001b[0;32m---> 88\u001b[0m \u001b[38;5;28mself\u001b[39m\u001b[38;5;241m.\u001b[39mg_valid_pos, \u001b[38;5;28mself\u001b[39m\u001b[38;5;241m.\u001b[39mg_valid_neg \u001b[38;5;241m=\u001b[39m \u001b[43mevaluate_graph_construct\u001b[49m\u001b[43m(\u001b[49m\u001b[38;5;28;43mself\u001b[39;49m\u001b[38;5;241;43m.\u001b[39;49m\u001b[43mdf_valid\u001b[49m\u001b[43m,\u001b[49m\u001b[43m \u001b[49m\u001b[38;5;28;43mself\u001b[39;49m\u001b[38;5;241;43m.\u001b[39;49m\u001b[43mG\u001b[49m\u001b[43m,\u001b[49m\u001b[43m \u001b[49m\u001b[38;5;124;43m'\u001b[39;49m\u001b[38;5;124;43mfix_dst\u001b[39;49m\u001b[38;5;124;43m'\u001b[39;49m\u001b[43m,\u001b[49m\u001b[43m \u001b[49m\u001b[38;5;241;43m1\u001b[39;49m\u001b[43m,\u001b[49m\u001b[43m \u001b[49m\u001b[38;5;28;43mself\u001b[39;49m\u001b[38;5;241;43m.\u001b[39;49m\u001b[43mdevice\u001b[49m\u001b[43m)\u001b[49m\n\u001b[1;32m     89\u001b[0m \u001b[38;5;28mself\u001b[39m\u001b[38;5;241m.\u001b[39mg_test_pos, \u001b[38;5;28mself\u001b[39m\u001b[38;5;241m.\u001b[39mg_test_neg \u001b[38;5;241m=\u001b[39m evaluate_graph_construct(\u001b[38;5;28mself\u001b[39m\u001b[38;5;241m.\u001b[39mdf_test, \u001b[38;5;28mself\u001b[39m\u001b[38;5;241m.\u001b[39mG, \u001b[38;5;124m'\u001b[39m\u001b[38;5;124mfix_dst\u001b[39m\u001b[38;5;124m'\u001b[39m, \u001b[38;5;241m1\u001b[39m, \u001b[38;5;28mself\u001b[39m\u001b[38;5;241m.\u001b[39mdevice)\n\u001b[1;32m     91\u001b[0m \u001b[38;5;28mself\u001b[39m\u001b[38;5;241m.\u001b[39mconfig \u001b[38;5;241m=\u001b[39m {\u001b[38;5;124m'\u001b[39m\u001b[38;5;124mn_hid\u001b[39m\u001b[38;5;124m'\u001b[39m: n_hid, \n\u001b[1;32m     92\u001b[0m                \u001b[38;5;124m'\u001b[39m\u001b[38;5;124mn_inp\u001b[39m\u001b[38;5;124m'\u001b[39m: n_inp, \n\u001b[1;32m     93\u001b[0m                \u001b[38;5;124m'\u001b[39m\u001b[38;5;124mn_out\u001b[39m\u001b[38;5;124m'\u001b[39m: n_out, \n\u001b[0;32m   (...)\u001b[0m\n\u001b[1;32m    102\u001b[0m                \u001b[38;5;124m'\u001b[39m\u001b[38;5;124mpath_length\u001b[39m\u001b[38;5;124m'\u001b[39m: path_length\n\u001b[1;32m    103\u001b[0m               }\n",
      "File \u001b[0;32m~/stanford/research/daneshjou/TxGNN-Burkitts/txgnn/utils.py:542\u001b[0m, in \u001b[0;36mevaluate_graph_construct\u001b[0;34m(df_valid, g, neg_sampler, k, device)\u001b[0m\n\u001b[1;32m    539\u001b[0m     \u001b[38;5;28;01mexcept\u001b[39;00m:\n\u001b[1;32m    540\u001b[0m         \u001b[38;5;28mprint\u001b[39m(etype[\u001b[38;5;241m1\u001b[39m])\n\u001b[0;32m--> 542\u001b[0m g_valid \u001b[38;5;241m=\u001b[39m \u001b[43mdgl\u001b[49m\u001b[38;5;241;43m.\u001b[39;49m\u001b[43mheterograph\u001b[49m\u001b[43m(\u001b[49m\u001b[43mout\u001b[49m\u001b[43m,\u001b[49m\u001b[43m \u001b[49m\u001b[43mnum_nodes_dict\u001b[49m\u001b[38;5;241;43m=\u001b[39;49m\u001b[43m{\u001b[49m\u001b[43mntype\u001b[49m\u001b[43m:\u001b[49m\u001b[43m \u001b[49m\u001b[43mg\u001b[49m\u001b[38;5;241;43m.\u001b[39;49m\u001b[43mnumber_of_nodes\u001b[49m\u001b[43m(\u001b[49m\u001b[43mntype\u001b[49m\u001b[43m)\u001b[49m\u001b[43m \u001b[49m\u001b[38;5;28;43;01mfor\u001b[39;49;00m\u001b[43m \u001b[49m\u001b[43mntype\u001b[49m\u001b[43m \u001b[49m\u001b[38;5;129;43;01min\u001b[39;49;00m\u001b[43m \u001b[49m\u001b[43mg\u001b[49m\u001b[38;5;241;43m.\u001b[39;49m\u001b[43mntypes\u001b[49m\u001b[43m}\u001b[49m\u001b[43m)\u001b[49m\n\u001b[1;32m    544\u001b[0m ng \u001b[38;5;241m=\u001b[39m Full_Graph_NegSampler(g_valid, k, neg_sampler, device)\n\u001b[1;32m    545\u001b[0m g_neg_valid \u001b[38;5;241m=\u001b[39m ng(g_valid)\n",
      "File \u001b[0;32m~/stanford/research/daneshjou/TxGNN-Burkitts/.pixi/envs/default/lib/python3.8/site-packages/dgl/convert.py:379\u001b[0m, in \u001b[0;36mheterograph\u001b[0;34m(data_dict, num_nodes_dict, idtype, device)\u001b[0m\n\u001b[1;32m    376\u001b[0m     rel_graphs\u001b[38;5;241m.\u001b[39mappend(g)\n\u001b[1;32m    378\u001b[0m \u001b[38;5;66;03m# create graph index\u001b[39;00m\n\u001b[0;32m--> 379\u001b[0m hgidx \u001b[38;5;241m=\u001b[39m \u001b[43mheterograph_index\u001b[49m\u001b[38;5;241;43m.\u001b[39;49m\u001b[43mcreate_heterograph_from_relations\u001b[49m\u001b[43m(\u001b[49m\n\u001b[1;32m    380\u001b[0m \u001b[43m    \u001b[49m\u001b[43mmetagraph\u001b[49m\u001b[43m,\u001b[49m\u001b[43m \u001b[49m\u001b[43m[\u001b[49m\u001b[43mrgrh\u001b[49m\u001b[38;5;241;43m.\u001b[39;49m\u001b[43m_graph\u001b[49m\u001b[43m \u001b[49m\u001b[38;5;28;43;01mfor\u001b[39;49;00m\u001b[43m \u001b[49m\u001b[43mrgrh\u001b[49m\u001b[43m \u001b[49m\u001b[38;5;129;43;01min\u001b[39;49;00m\u001b[43m \u001b[49m\u001b[43mrel_graphs\u001b[49m\u001b[43m]\u001b[49m\u001b[43m,\u001b[49m\u001b[43m \u001b[49m\u001b[43mnum_nodes_per_type\u001b[49m\u001b[43m)\u001b[49m\n\u001b[1;32m    381\u001b[0m retg \u001b[38;5;241m=\u001b[39m DGLHeteroGraph(hgidx, ntypes, etypes)\n\u001b[1;32m    383\u001b[0m \u001b[38;5;28;01mreturn\u001b[39;00m retg\u001b[38;5;241m.\u001b[39mto(device)\n",
      "File \u001b[0;32m~/stanford/research/daneshjou/TxGNN-Burkitts/.pixi/envs/default/lib/python3.8/site-packages/dgl/heterograph_index.py:1216\u001b[0m, in \u001b[0;36mcreate_heterograph_from_relations\u001b[0;34m(metagraph, rel_graphs, num_nodes_per_type)\u001b[0m\n\u001b[1;32m   1214\u001b[0m     \u001b[38;5;28;01mreturn\u001b[39;00m _CAPI_DGLHeteroCreateHeteroGraph(metagraph, rel_graphs)\n\u001b[1;32m   1215\u001b[0m \u001b[38;5;28;01melse\u001b[39;00m:\n\u001b[0;32m-> 1216\u001b[0m     \u001b[38;5;28;01mreturn\u001b[39;00m \u001b[43m_CAPI_DGLHeteroCreateHeteroGraphWithNumNodes\u001b[49m\u001b[43m(\u001b[49m\n\u001b[1;32m   1217\u001b[0m \u001b[43m        \u001b[49m\u001b[43mmetagraph\u001b[49m\u001b[43m,\u001b[49m\u001b[43m \u001b[49m\u001b[43mrel_graphs\u001b[49m\u001b[43m,\u001b[49m\u001b[43m \u001b[49m\u001b[43mnum_nodes_per_type\u001b[49m\u001b[38;5;241;43m.\u001b[39;49m\u001b[43mtodgltensor\u001b[49m\u001b[43m(\u001b[49m\u001b[43m)\u001b[49m\u001b[43m)\u001b[49m\n",
      "File \u001b[0;32m~/stanford/research/daneshjou/TxGNN-Burkitts/.pixi/envs/default/lib/python3.8/site-packages/dgl/_ffi/_ctypes/function.py:188\u001b[0m, in \u001b[0;36mFunctionBase.__call__\u001b[0;34m(self, *args)\u001b[0m\n\u001b[1;32m    186\u001b[0m ret_val \u001b[38;5;241m=\u001b[39m DGLValue()\n\u001b[1;32m    187\u001b[0m ret_tcode \u001b[38;5;241m=\u001b[39m ctypes\u001b[38;5;241m.\u001b[39mc_int()\n\u001b[0;32m--> 188\u001b[0m \u001b[43mcheck_call\u001b[49m\u001b[43m(\u001b[49m\u001b[43m_LIB\u001b[49m\u001b[38;5;241;43m.\u001b[39;49m\u001b[43mDGLFuncCall\u001b[49m\u001b[43m(\u001b[49m\n\u001b[1;32m    189\u001b[0m \u001b[43m    \u001b[49m\u001b[38;5;28;43mself\u001b[39;49m\u001b[38;5;241;43m.\u001b[39;49m\u001b[43mhandle\u001b[49m\u001b[43m,\u001b[49m\u001b[43m \u001b[49m\u001b[43mvalues\u001b[49m\u001b[43m,\u001b[49m\u001b[43m \u001b[49m\u001b[43mtcodes\u001b[49m\u001b[43m,\u001b[49m\u001b[43m \u001b[49m\u001b[43mctypes\u001b[49m\u001b[38;5;241;43m.\u001b[39;49m\u001b[43mc_int\u001b[49m\u001b[43m(\u001b[49m\u001b[43mnum_args\u001b[49m\u001b[43m)\u001b[49m\u001b[43m,\u001b[49m\n\u001b[1;32m    190\u001b[0m \u001b[43m    \u001b[49m\u001b[43mctypes\u001b[49m\u001b[38;5;241;43m.\u001b[39;49m\u001b[43mbyref\u001b[49m\u001b[43m(\u001b[49m\u001b[43mret_val\u001b[49m\u001b[43m)\u001b[49m\u001b[43m,\u001b[49m\u001b[43m \u001b[49m\u001b[43mctypes\u001b[49m\u001b[38;5;241;43m.\u001b[39;49m\u001b[43mbyref\u001b[49m\u001b[43m(\u001b[49m\u001b[43mret_tcode\u001b[49m\u001b[43m)\u001b[49m\u001b[43m)\u001b[49m\u001b[43m)\u001b[49m\n\u001b[1;32m    191\u001b[0m _ \u001b[38;5;241m=\u001b[39m temp_args\n\u001b[1;32m    192\u001b[0m _ \u001b[38;5;241m=\u001b[39m args\n",
      "File \u001b[0;32m~/stanford/research/daneshjou/TxGNN-Burkitts/.pixi/envs/default/lib/python3.8/site-packages/dgl/_ffi/base.py:65\u001b[0m, in \u001b[0;36mcheck_call\u001b[0;34m(ret)\u001b[0m\n\u001b[1;32m     54\u001b[0m \u001b[38;5;250m\u001b[39m\u001b[38;5;124;03m\"\"\"Check the return value of C API call\u001b[39;00m\n\u001b[1;32m     55\u001b[0m \n\u001b[1;32m     56\u001b[0m \u001b[38;5;124;03mThis function will raise exception when error occurs.\u001b[39;00m\n\u001b[0;32m   (...)\u001b[0m\n\u001b[1;32m     62\u001b[0m \u001b[38;5;124;03m    return value from API calls\u001b[39;00m\n\u001b[1;32m     63\u001b[0m \u001b[38;5;124;03m\"\"\"\u001b[39;00m\n\u001b[1;32m     64\u001b[0m \u001b[38;5;28;01mif\u001b[39;00m ret \u001b[38;5;241m!=\u001b[39m \u001b[38;5;241m0\u001b[39m:\n\u001b[0;32m---> 65\u001b[0m     \u001b[38;5;28;01mraise\u001b[39;00m DGLError(py_str(_LIB\u001b[38;5;241m.\u001b[39mDGLGetLastError()))\n",
      "\u001b[0;31mDGLError\u001b[0m: [13:36:13] /tmp/dgl_src/src/graph/heterograph.cc:120: Check failed: !rel_graphs.empty(): Empty heterograph is not allowed.\nStack trace:\n  [bt] (0) 1   libdgl.dylib                        0x000000015d0b329c dmlc::LogMessageFatal::~LogMessageFatal() + 116\n  [bt] (1) 2   libdgl.dylib                        0x000000015d3f44a0 dgl::HeteroGraph::HeteroGraph(std::__1::shared_ptr<dgl::GraphInterface>, std::__1::vector<std::__1::shared_ptr<dgl::BaseHeteroGraph>, std::__1::allocator<std::__1::shared_ptr<dgl::BaseHeteroGraph>>> const&, std::__1::vector<long long, std::__1::allocator<long long>> const&) + 1596\n  [bt] (2) 3   libdgl.dylib                        0x000000015d3c6958 dgl::CreateHeteroGraph(std::__1::shared_ptr<dgl::GraphInterface>, std::__1::vector<std::__1::shared_ptr<dgl::BaseHeteroGraph>, std::__1::allocator<std::__1::shared_ptr<dgl::BaseHeteroGraph>>> const&, std::__1::vector<long long, std::__1::allocator<long long>> const&) + 96\n  [bt] (3) 4   libdgl.dylib                        0x000000015d406f90 std::__1::__function::__func<dgl::$_3, std::__1::allocator<dgl::$_3>, void (dgl::runtime::DGLArgs, dgl::runtime::DGLRetValue*)>::operator()(dgl::runtime::DGLArgs&&, dgl::runtime::DGLRetValue*&&) + 516\n  [bt] (4) 5   libdgl.dylib                        0x000000015d39f0a4 DGLFuncCall + 80\n  [bt] (5) 6   libffi.8.dylib                      0x00000001068f0050 ffi_call_SYSV + 80\n  [bt] (6) 7   libffi.8.dylib                      0x00000001068ed868 ffi_call_int + 1452\n  [bt] (7) 8   _ctypes.cpython-38-darwin.so        0x0000000106920574 _ctypes_callproc + 1176\n  [bt] (8) 9   _ctypes.cpython-38-darwin.so        0x000000010691a8c8 PyCFuncPtr_call + 1164\n\n"
     ]
    }
   ],
   "source": [
    "tx_gnn.load_pretrained('/Users/shloknatarajan/stanford/research/daneshjou/TxGNN-Burkitts/checkpoints_all_seeds/TxGNN_1_random')"
   ]
  },
  {
   "cell_type": "code",
   "execution_count": 10,
   "metadata": {},
   "outputs": [],
   "source": [
    "mappings = data.retrieve_id_mapping()\n",
    "id2name_drug = mappings['id2name_drug']\n",
    "idx2id_drug = mappings['idx2id_drug']"
   ]
  },
  {
   "cell_type": "code",
   "execution_count": null,
   "metadata": {},
   "outputs": [],
   "source": []
  }
 ],
 "metadata": {
  "kernelspec": {
   "display_name": "default",
   "language": "python",
   "name": "python3"
  },
  "language_info": {
   "codemirror_mode": {
    "name": "ipython",
    "version": 3
   },
   "file_extension": ".py",
   "mimetype": "text/x-python",
   "name": "python",
   "nbconvert_exporter": "python",
   "pygments_lexer": "ipython3",
   "version": "3.8.15"
  }
 },
 "nbformat": 4,
 "nbformat_minor": 2
}
